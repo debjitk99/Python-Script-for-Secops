{
  "nbformat": 4,
  "nbformat_minor": 0,
  "metadata": {
    "colab": {
      "provenance": [],
      "authorship_tag": "ABX9TyMBNeGs9qP/d6G/3PR/DcUP",
      "include_colab_link": true
    },
    "kernelspec": {
      "name": "python3",
      "display_name": "Python 3"
    },
    "language_info": {
      "name": "python"
    }
  },
  "cells": [
    {
      "cell_type": "markdown",
      "metadata": {
        "id": "view-in-github",
        "colab_type": "text"
      },
      "source": [
        "<a href=\"https://colab.research.google.com/github/debjitk99/Python-Script-for-Secops/blob/main/password_checker.ipynb\" target=\"_parent\"><img src=\"https://colab.research.google.com/assets/colab-badge.svg\" alt=\"Open In Colab\"/></a>"
      ]
    },
    {
      "cell_type": "code",
      "execution_count": 67,
      "metadata": {
        "id": "OqOIOis6QmRi"
      },
      "outputs": [],
      "source": [
        "#Python script to check strength of a user define password\n",
        "import re #Inbuild module to check regular expression"
      ]
    },
    {
      "cell_type": "code",
      "source": [
        "#Load a set of common dictionary word\n",
        "\n",
        "def load_dictionary():\n",
        "  with open (\"/content/Oxford English Dictionary.txt\") as f:\n",
        "    words = set (word.strip().lower() for word in f)\n",
        "  return words\n",
        ""
      ],
      "metadata": {
        "id": "l2tAw5v3ja1D"
      },
      "execution_count": 68,
      "outputs": []
    },
    {
      "cell_type": "code",
      "source": [
        "#Load a set of common password word\n",
        "\n",
        "def load_common_password():\n",
        "  with open (\"/content/10-million-password-list-top-1000000.txt\") as f:\n",
        "    words = set (word.strip().lower() for word in f)\n",
        "  return words\n",
        ""
      ],
      "metadata": {
        "id": "4zfzyZyKrPea"
      },
      "execution_count": 69,
      "outputs": []
    },
    {
      "cell_type": "code",
      "source": [
        "#check password contain dictionary word or not\n",
        "\n",
        "def check_dictionary_word(password, dictionary):\n",
        "  password_lower=password.lower()\n",
        "  for word in dictionary:\n",
        "    if word in password_lower:\n",
        "      return True\n",
        "  return False\n"
      ],
      "metadata": {
        "id": "QOKt-Qnll8gv"
      },
      "execution_count": 72,
      "outputs": []
    },
    {
      "cell_type": "code",
      "source": [
        "#check common password\n",
        "\n",
        "def check_common_password(password, common_password):\n",
        "  password_lower=password.lower()\n",
        "  for enter_password in common_password:\n",
        "    if enter_password in password_lower:\n",
        "      return True\n",
        "  return False"
      ],
      "metadata": {
        "id": "emJ0QQocrk5p"
      },
      "execution_count": 73,
      "outputs": []
    },
    {
      "cell_type": "code",
      "source": [
        "#user define function to check password\n",
        "def password_checker (password, dictionary, common_password):\n",
        "  Strength = 0 # It will help to determine the strength of an password\n",
        "\n",
        "  #Check password contain 8 character or not\n",
        "  if len(password)>=8:\n",
        "    Strength +=1\n",
        "  else:\n",
        "    print (\"password must contain atleast 8 character\")\n",
        "\n",
        "  #Check password contain digit or not\n",
        "  if re.search(\"[0-9]\",password):\n",
        "    Strength+=1\n",
        "  else:\n",
        "    print(\"password should contain a digit\")\n",
        "\n",
        "  #Check password contain 1 lower case and 1 upper case\n",
        "  if re.search(\"[a-z]\",password) and re.search(\"[A-Z]\",password):\n",
        "    Strength+=1\n",
        "  else:\n",
        "    print(\"password should contain atleast one upper & lower case word\")\n",
        "\n",
        "  #check password contain atleast 2 special character\n",
        "  special_character = re.findall (\"[!@#$%^&*(),.?\\\":{}|<>]\",password)\n",
        "  if len(special_character)>=2:\n",
        "    Strength+=1\n",
        "  else:\n",
        "    print (\"password should contain atleast 2 special character\")\n",
        "\n",
        "  #check dictionary word\n",
        "  if check_dictionary_word (password, dictionary):\n",
        "    print(\"password should not contain dictionary word\")\n",
        "  else:\n",
        "    Strength+=1\n",
        "\n",
        "    #check common password\n",
        "  if check_common_password (password, load_common_password()):\n",
        "    print(\"password should not contain common password\")\n",
        "  else:\n",
        "    Strength+=1\n",
        "\n",
        "#check the strength of the password\n",
        "  if Strength == 6:\n",
        "    print(\"Strong password\")\n",
        "  elif Strength == 4:\n",
        "    print(\"good password\")\n",
        "  elif Strength == 3:\n",
        "    print (\"moderate password\")\n",
        "  else:\n",
        "    print(\"weak password\")"
      ],
      "metadata": {
        "id": "dovGJzJGU21s"
      },
      "execution_count": 74,
      "outputs": []
    },
    {
      "cell_type": "code",
      "source": [
        "#load dictionary word & common password\n",
        "\n",
        "dictionary = load_dictionary()\n",
        "common_password = load_common_password()"
      ],
      "metadata": {
        "id": "nGKMq9lKnk9D"
      },
      "execution_count": 75,
      "outputs": []
    },
    {
      "cell_type": "code",
      "source": [
        "#user input password\n",
        "user_password = input(\"Please enter your password: \")"
      ],
      "metadata": {
        "colab": {
          "base_uri": "https://localhost:8080/"
        },
        "id": "hhBnY-dBWcU1",
        "outputId": "099b61fa-6a61-4297-e750-b0798f41f196"
      },
      "execution_count": 78,
      "outputs": [
        {
          "name": "stdout",
          "output_type": "stream",
          "text": [
            "Please enter your password: uiuxcgh\n"
          ]
        }
      ]
    },
    {
      "cell_type": "code",
      "source": [
        "#Check strength of an password\n",
        "password_checker(user_password,dictionary,common_password)"
      ],
      "metadata": {
        "colab": {
          "base_uri": "https://localhost:8080/"
        },
        "id": "J0v8hN45WtGV",
        "outputId": "52be5736-b843-4a43-e065-c5a96da4352d"
      },
      "execution_count": 79,
      "outputs": [
        {
          "output_type": "stream",
          "name": "stdout",
          "text": [
            "password must contain atleast 8 character\n",
            "password should contain a digit\n",
            "password should contain atleast one upper & lower case word\n",
            "password should contain atleast 2 special character\n",
            "password should not contain dictionary word\n",
            "weak password\n"
          ]
        }
      ]
    }
  ]
}